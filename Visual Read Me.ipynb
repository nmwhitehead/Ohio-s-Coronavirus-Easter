{
 "cells": [
  {
   "cell_type": "markdown",
   "metadata": {},
   "source": [
    "# Ohio's Easter"
   ]
  },
  {
   "cell_type": "markdown",
   "metadata": {},
   "source": [
    "Last week I wrote a blog post looking at the effects of Easter on the spread of [Coronavirus cases caused by Easter Sunday](https://medium.com/@ins0mnicat/did-socially-distant-easter-services-prevented-a-post-easter-spike-16379e98b0b6). While I was expecting to see major spikes in new cases, I ended up finding that the country did very well, with many states like Alabama seeing major dips in new cases in the week following.\n",
    "\n",
    "During the research for this blog post, which was done using [free data from the NYT's Github](https://github.com/nytimes/covid-19-data), I did find a few states that had the major spikes I expected. And Ohio's was bad enough that I wanted to do a little more with it."
   ]
  },
  {
   "cell_type": "markdown",
   "metadata": {},
   "source": [
    "<img src=\"Images/Ohio's Easter.png\">\n",
    "\n",
    "The graph above shows the daily change in cases in the state of Ohio. The solid yellow line indicates Easter Sunday and the dashed yellow line indicated the following Sunday. The week delay is to account for the incubation period of the disease. While most [become symptomatic in 5 days](https://annals.org/aim/fullarticle/2762808/incubation-period-coronavirus-disease-2019-covid-19-from-publicly-reported), not 7, I made it a full week to account for the additional time until someone is tested and confirmed positive. The spike peaking exactly on the dotted line is purely coincidence.\n",
    "\n",
    "Coincidence aside, the spike following Easter is clear. Prior to Easter, the daily increases in COVID-19 cases in the state was drifting at a comfortable 400ish every day, but following Easter there was a spiked peaking at around 1400 in a single day. The question I wanted to answer was how many cases were caused by Easter events. And the way I wanted to check was a simple linear regression model.\n",
    "\n",
    "\n",
    "\n",
    "<img src='Images/Ohio Regression.png'>\n",
    "\n",
    "\n",
    "\n",
    "\n",
    "\n",
    "\n",
    "\n"
   ]
  },
  {
   "cell_type": "code",
   "execution_count": null,
   "metadata": {},
   "outputs": [],
   "source": []
  },
  {
   "cell_type": "code",
   "execution_count": null,
   "metadata": {},
   "outputs": [],
   "source": []
  },
  {
   "cell_type": "code",
   "execution_count": null,
   "metadata": {},
   "outputs": [],
   "source": []
  }
 ],
 "metadata": {
  "kernelspec": {
   "display_name": "Python 3",
   "language": "python",
   "name": "python3"
  },
  "language_info": {
   "codemirror_mode": {
    "name": "ipython",
    "version": 3
   },
   "file_extension": ".py",
   "mimetype": "text/x-python",
   "name": "python",
   "nbconvert_exporter": "python",
   "pygments_lexer": "ipython3",
   "version": "3.7.3"
  }
 },
 "nbformat": 4,
 "nbformat_minor": 2
}
