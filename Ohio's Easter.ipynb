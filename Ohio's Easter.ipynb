{
 "cells": [
  {
   "cell_type": "code",
   "execution_count": 1,
   "metadata": {},
   "outputs": [],
   "source": [
    "import pandas as pd\n",
    "import numpy as np\n",
    "import matplotlib.pyplot as plt\n",
    "import seaborn as sns\n",
    "import datetime as dt"
   ]
  },
  {
   "cell_type": "code",
   "execution_count": 2,
   "metadata": {},
   "outputs": [],
   "source": [
    "# Let's quickly set some options for Pandas\n",
    "pd.options.display.min_rows = 20"
   ]
  },
  {
   "cell_type": "code",
   "execution_count": 3,
   "metadata": {},
   "outputs": [],
   "source": [
    "# Link to Data Used = https://github.com/nytimes/covid-19-data"
   ]
  },
  {
   "cell_type": "code",
   "execution_count": 4,
   "metadata": {},
   "outputs": [],
   "source": [
    "# Let's load in the total US data\n",
    "total_us_data = pd.read_csv('NYT-US-Data/us-states-2020-04-25.csv')"
   ]
  },
  {
   "cell_type": "code",
   "execution_count": 5,
   "metadata": {},
   "outputs": [],
   "source": [
    "# Let's narrow it down to the Ohio data\n",
    "ohio_data = total_us_data[total_us_data.state == 'Ohio']"
   ]
  },
  {
   "cell_type": "code",
   "execution_count": 6,
   "metadata": {},
   "outputs": [
    {
     "data": {
      "text/html": [
       "<div>\n",
       "<style scoped>\n",
       "    .dataframe tbody tr th:only-of-type {\n",
       "        vertical-align: middle;\n",
       "    }\n",
       "\n",
       "    .dataframe tbody tr th {\n",
       "        vertical-align: top;\n",
       "    }\n",
       "\n",
       "    .dataframe thead th {\n",
       "        text-align: right;\n",
       "    }\n",
       "</style>\n",
       "<table border=\"1\" class=\"dataframe\">\n",
       "  <thead>\n",
       "    <tr style=\"text-align: right;\">\n",
       "      <th></th>\n",
       "      <th>date</th>\n",
       "      <th>state</th>\n",
       "      <th>fips</th>\n",
       "      <th>cases</th>\n",
       "      <th>deaths</th>\n",
       "    </tr>\n",
       "  </thead>\n",
       "  <tbody>\n",
       "    <tr>\n",
       "      <td>2691</td>\n",
       "      <td>2020-04-20</td>\n",
       "      <td>Ohio</td>\n",
       "      <td>39</td>\n",
       "      <td>12919</td>\n",
       "      <td>509</td>\n",
       "    </tr>\n",
       "    <tr>\n",
       "      <td>2746</td>\n",
       "      <td>2020-04-21</td>\n",
       "      <td>Ohio</td>\n",
       "      <td>39</td>\n",
       "      <td>13725</td>\n",
       "      <td>557</td>\n",
       "    </tr>\n",
       "    <tr>\n",
       "      <td>2801</td>\n",
       "      <td>2020-04-22</td>\n",
       "      <td>Ohio</td>\n",
       "      <td>39</td>\n",
       "      <td>14117</td>\n",
       "      <td>610</td>\n",
       "    </tr>\n",
       "    <tr>\n",
       "      <td>2856</td>\n",
       "      <td>2020-04-23</td>\n",
       "      <td>Ohio</td>\n",
       "      <td>39</td>\n",
       "      <td>14694</td>\n",
       "      <td>656</td>\n",
       "    </tr>\n",
       "    <tr>\n",
       "      <td>2911</td>\n",
       "      <td>2020-04-24</td>\n",
       "      <td>Ohio</td>\n",
       "      <td>39</td>\n",
       "      <td>15169</td>\n",
       "      <td>690</td>\n",
       "    </tr>\n",
       "  </tbody>\n",
       "</table>\n",
       "</div>"
      ],
      "text/plain": [
       "            date state  fips  cases  deaths\n",
       "2691  2020-04-20  Ohio    39  12919     509\n",
       "2746  2020-04-21  Ohio    39  13725     557\n",
       "2801  2020-04-22  Ohio    39  14117     610\n",
       "2856  2020-04-23  Ohio    39  14694     656\n",
       "2911  2020-04-24  Ohio    39  15169     690"
      ]
     },
     "execution_count": 6,
     "metadata": {},
     "output_type": "execute_result"
    }
   ],
   "source": [
    "# Let's give the data a check\n",
    "ohio_data.tail()"
   ]
  },
  {
   "cell_type": "code",
   "execution_count": 7,
   "metadata": {},
   "outputs": [
    {
     "name": "stderr",
     "output_type": "stream",
     "text": [
      "C:\\Users\\nolan\\AppData\\Roaming\\Python\\Python37\\site-packages\\pandas\\core\\generic.py:5208: SettingWithCopyWarning: \n",
      "A value is trying to be set on a copy of a slice from a DataFrame.\n",
      "Try using .loc[row_indexer,col_indexer] = value instead\n",
      "\n",
      "See the caveats in the documentation: http://pandas.pydata.org/pandas-docs/stable/user_guide/indexing.html#returning-a-view-versus-a-copy\n",
      "  self[name] = value\n"
     ]
    }
   ],
   "source": [
    "# Let's convert the data column to datetime\n",
    "ohio_data.date = pd.to_datetime(ohio_data.date)"
   ]
  },
  {
   "cell_type": "code",
   "execution_count": 8,
   "metadata": {},
   "outputs": [],
   "source": [
    "# And let's make that column the index\n",
    "ohio_data = ohio_data.set_index('date')"
   ]
  },
  {
   "cell_type": "code",
   "execution_count": 9,
   "metadata": {},
   "outputs": [
    {
     "data": {
      "text/html": [
       "<div>\n",
       "<style scoped>\n",
       "    .dataframe tbody tr th:only-of-type {\n",
       "        vertical-align: middle;\n",
       "    }\n",
       "\n",
       "    .dataframe tbody tr th {\n",
       "        vertical-align: top;\n",
       "    }\n",
       "\n",
       "    .dataframe thead th {\n",
       "        text-align: right;\n",
       "    }\n",
       "</style>\n",
       "<table border=\"1\" class=\"dataframe\">\n",
       "  <thead>\n",
       "    <tr style=\"text-align: right;\">\n",
       "      <th></th>\n",
       "      <th>state</th>\n",
       "      <th>fips</th>\n",
       "      <th>cases</th>\n",
       "      <th>deaths</th>\n",
       "    </tr>\n",
       "    <tr>\n",
       "      <th>date</th>\n",
       "      <th></th>\n",
       "      <th></th>\n",
       "      <th></th>\n",
       "      <th></th>\n",
       "    </tr>\n",
       "  </thead>\n",
       "  <tbody>\n",
       "    <tr>\n",
       "      <td>2020-04-20</td>\n",
       "      <td>Ohio</td>\n",
       "      <td>39</td>\n",
       "      <td>12919</td>\n",
       "      <td>509</td>\n",
       "    </tr>\n",
       "    <tr>\n",
       "      <td>2020-04-21</td>\n",
       "      <td>Ohio</td>\n",
       "      <td>39</td>\n",
       "      <td>13725</td>\n",
       "      <td>557</td>\n",
       "    </tr>\n",
       "    <tr>\n",
       "      <td>2020-04-22</td>\n",
       "      <td>Ohio</td>\n",
       "      <td>39</td>\n",
       "      <td>14117</td>\n",
       "      <td>610</td>\n",
       "    </tr>\n",
       "    <tr>\n",
       "      <td>2020-04-23</td>\n",
       "      <td>Ohio</td>\n",
       "      <td>39</td>\n",
       "      <td>14694</td>\n",
       "      <td>656</td>\n",
       "    </tr>\n",
       "    <tr>\n",
       "      <td>2020-04-24</td>\n",
       "      <td>Ohio</td>\n",
       "      <td>39</td>\n",
       "      <td>15169</td>\n",
       "      <td>690</td>\n",
       "    </tr>\n",
       "  </tbody>\n",
       "</table>\n",
       "</div>"
      ],
      "text/plain": [
       "           state  fips  cases  deaths\n",
       "date                                 \n",
       "2020-04-20  Ohio    39  12919     509\n",
       "2020-04-21  Ohio    39  13725     557\n",
       "2020-04-22  Ohio    39  14117     610\n",
       "2020-04-23  Ohio    39  14694     656\n",
       "2020-04-24  Ohio    39  15169     690"
      ]
     },
     "execution_count": 9,
     "metadata": {},
     "output_type": "execute_result"
    }
   ],
   "source": [
    "# Looks good\n",
    "ohio_data.tail()"
   ]
  },
  {
   "cell_type": "code",
   "execution_count": 10,
   "metadata": {},
   "outputs": [
    {
     "data": {
      "text/plain": [
       "date\n",
       "2020-04-20    1317.0\n",
       "2020-04-21     806.0\n",
       "2020-04-22     392.0\n",
       "2020-04-23     577.0\n",
       "2020-04-24     475.0\n",
       "Name: cases, dtype: float64"
      ]
     },
     "execution_count": 10,
     "metadata": {},
     "output_type": "execute_result"
    }
   ],
   "source": [
    "# Let's check the change in cases\n",
    "ohio_data.cases.diff().tail()"
   ]
  },
  {
   "cell_type": "code",
   "execution_count": 11,
   "metadata": {},
   "outputs": [],
   "source": [
    "# And let's make that a column\n",
    "ohio_data['change_in_cases'] = ohio_data.cases.diff()"
   ]
  },
  {
   "cell_type": "code",
   "execution_count": 12,
   "metadata": {},
   "outputs": [
    {
     "data": {
      "text/html": [
       "<div>\n",
       "<style scoped>\n",
       "    .dataframe tbody tr th:only-of-type {\n",
       "        vertical-align: middle;\n",
       "    }\n",
       "\n",
       "    .dataframe tbody tr th {\n",
       "        vertical-align: top;\n",
       "    }\n",
       "\n",
       "    .dataframe thead th {\n",
       "        text-align: right;\n",
       "    }\n",
       "</style>\n",
       "<table border=\"1\" class=\"dataframe\">\n",
       "  <thead>\n",
       "    <tr style=\"text-align: right;\">\n",
       "      <th></th>\n",
       "      <th>state</th>\n",
       "      <th>fips</th>\n",
       "      <th>cases</th>\n",
       "      <th>deaths</th>\n",
       "      <th>change_in_cases</th>\n",
       "    </tr>\n",
       "    <tr>\n",
       "      <th>date</th>\n",
       "      <th></th>\n",
       "      <th></th>\n",
       "      <th></th>\n",
       "      <th></th>\n",
       "      <th></th>\n",
       "    </tr>\n",
       "  </thead>\n",
       "  <tbody>\n",
       "    <tr>\n",
       "      <td>2020-04-20</td>\n",
       "      <td>Ohio</td>\n",
       "      <td>39</td>\n",
       "      <td>12919</td>\n",
       "      <td>509</td>\n",
       "      <td>1317.0</td>\n",
       "    </tr>\n",
       "    <tr>\n",
       "      <td>2020-04-21</td>\n",
       "      <td>Ohio</td>\n",
       "      <td>39</td>\n",
       "      <td>13725</td>\n",
       "      <td>557</td>\n",
       "      <td>806.0</td>\n",
       "    </tr>\n",
       "    <tr>\n",
       "      <td>2020-04-22</td>\n",
       "      <td>Ohio</td>\n",
       "      <td>39</td>\n",
       "      <td>14117</td>\n",
       "      <td>610</td>\n",
       "      <td>392.0</td>\n",
       "    </tr>\n",
       "    <tr>\n",
       "      <td>2020-04-23</td>\n",
       "      <td>Ohio</td>\n",
       "      <td>39</td>\n",
       "      <td>14694</td>\n",
       "      <td>656</td>\n",
       "      <td>577.0</td>\n",
       "    </tr>\n",
       "    <tr>\n",
       "      <td>2020-04-24</td>\n",
       "      <td>Ohio</td>\n",
       "      <td>39</td>\n",
       "      <td>15169</td>\n",
       "      <td>690</td>\n",
       "      <td>475.0</td>\n",
       "    </tr>\n",
       "  </tbody>\n",
       "</table>\n",
       "</div>"
      ],
      "text/plain": [
       "           state  fips  cases  deaths  change_in_cases\n",
       "date                                                  \n",
       "2020-04-20  Ohio    39  12919     509           1317.0\n",
       "2020-04-21  Ohio    39  13725     557            806.0\n",
       "2020-04-22  Ohio    39  14117     610            392.0\n",
       "2020-04-23  Ohio    39  14694     656            577.0\n",
       "2020-04-24  Ohio    39  15169     690            475.0"
      ]
     },
     "execution_count": 12,
     "metadata": {},
     "output_type": "execute_result"
    }
   ],
   "source": [
    "# And it looks ready for some graphin\n",
    "ohio_data.tail()"
   ]
  },
  {
   "cell_type": "code",
   "execution_count": null,
   "metadata": {},
   "outputs": [],
   "source": []
  },
  {
   "cell_type": "markdown",
   "metadata": {},
   "source": [
    "## Let's Make a Graph"
   ]
  },
  {
   "cell_type": "code",
   "execution_count": 13,
   "metadata": {},
   "outputs": [],
   "source": [
    "# I copied the function from my Change in Cases pages and removed a ot of unneeded lines\n",
    "def daily_change(state, title=None, easter=None):\n",
    "    plt.figure(figsize=(16, 8))\n",
    "    \n",
    "    if title == None:\n",
    "        plt.title(label=f\"{state.state[0]} Currently Has {state.cases[-1]} Cases In Total\", size=24)\n",
    "    else:\n",
    "        plt.title(title, size=24)\n",
    "    \n",
    "    plt.plot(state.change_in_cases)\n",
    "    \n",
    "    # This adds Easter's markers, so it will noramally not be used\n",
    "    if easter != None:\n",
    "        plt.vlines(x=dt.date(2020, 4, 12), ymin=state.change_in_cases.min(), ymax=state.change_in_cases.max(), linestyles='solid', color='goldenrod', label='Easter Sunday')\n",
    "        plt.vlines(x=dt.date(2020, 4, 19), ymin=state.change_in_cases.min(), ymax=state.change_in_cases.max(), linestyle='dashdot', color='goldenrod', label='One Week After Easter')\n",
    "    \n",
    "    # This will add text at the end of the line indicating the current number of cases\n",
    "#     plt.text(x=state.index[-2], y=(state.change_in_cases[-1])*0.7, s=f\"{state.cases[-1]}\\nCases\\nTotal\", fontsize=16)\n",
    "    # ^ Marking this out for now because no one line of code looks good for every state ^\n",
    "    \n",
    "    # Hopefully the positioning of the \n",
    "    plt.legend()"
   ]
  },
  {
   "cell_type": "code",
   "execution_count": null,
   "metadata": {},
   "outputs": [],
   "source": []
  },
  {
   "cell_type": "code",
   "execution_count": 14,
   "metadata": {},
   "outputs": [
    {
     "name": "stderr",
     "output_type": "stream",
     "text": [
      "C:\\Users\\nolan\\AppData\\Roaming\\Python\\Python37\\site-packages\\pandas\\plotting\\_matplotlib\\converter.py:103: FutureWarning: Using an implicitly registered datetime converter for a matplotlib plotting method. The converter was registered by pandas on import. Future versions of pandas will require you to explicitly register matplotlib converters.\n",
      "\n",
      "To register the converters:\n",
      "\t>>> from pandas.plotting import register_matplotlib_converters\n",
      "\t>>> register_matplotlib_converters()\n",
      "  warnings.warn(msg, FutureWarning)\n"
     ]
    },
    {
     "data": {
      "image/png": "[encoded data removed]",
      "text/plain": [
       "<Figure size 1152x576 with 1 Axes>"
      ]
     },
     "metadata": {
      "needs_background": "light"
     },
     "output_type": "display_data"
    }
   ],
   "source": [
    "# And let's see how it looks\n",
    "daily_change(ohio_data, \"Ohio Has a Clear Easter Spike,\\nFactoring in COVID-19's Incubation Period\",easter='On')"
   ]
  },
  {
   "cell_type": "code",
   "execution_count": null,
   "metadata": {},
   "outputs": [],
   "source": []
  },
  {
   "cell_type": "markdown",
   "metadata": {},
   "source": [
    "## Linear Regression of Total Data"
   ]
  },
  {
   "cell_type": "code",
   "execution_count": 15,
   "metadata": {},
   "outputs": [],
   "source": [
    "from sklearn.model_selection import train_test_split\n",
    "from sklearn.linear_model import LinearRegression"
   ]
  },
  {
   "cell_type": "code",
   "execution_count": 16,
   "metadata": {},
   "outputs": [],
   "source": [
    "# Let's create our x and y values\n",
    "X = ohio_data.index\n",
    "y = ohio_data.change_in_cases"
   ]
  },
  {
   "cell_type": "code",
   "execution_count": 17,
   "metadata": {},
   "outputs": [],
   "source": [
    "# Not fully sure what this does, but it stops an error when trying to fit X and y\n",
    "X = np.asanyarray(X).reshape(-1, 1)"
   ]
  },
  {
   "cell_type": "code",
   "execution_count": 18,
   "metadata": {},
   "outputs": [],
   "source": [
    "# This drops the NaN from the begining and keeps the shapes the same\n",
    "X = X[1:]\n",
    "y = y[1:]"
   ]
  },
  {
   "cell_type": "code",
   "execution_count": 19,
   "metadata": {},
   "outputs": [],
   "source": [
    "# Let's give it train test splitting, with the training data going up to Easter Sunday\n",
    "X_train, X_test, y_train, y_test = train_test_split(X, y, test_size=0.25, random_state=42, shuffle=False)"
   ]
  },
  {
   "cell_type": "code",
   "execution_count": 20,
   "metadata": {},
   "outputs": [],
   "source": [
    "# Let's fit the model\n",
    "lr = LinearRegression().fit(X_train, y_train)"
   ]
  },
  {
   "cell_type": "code",
   "execution_count": 22,
   "metadata": {},
   "outputs": [
    {
     "data": {
      "image/png": "[encoded data removed]",
      "text/plain": [
       "<Figure size 1152x576 with 1 Axes>"
      ]
     },
     "metadata": {
      "needs_background": "light"
     },
     "output_type": "display_data"
    }
   ],
   "source": [
    "# And let's graph it all out\n",
    "daily_change(ohio_data, \"The Linear Regression Model Expected a Continuation of the Upward\\nTrend Seen from Mid March to Early April\", easter='On')\n",
    "plt.plot(X_train, lr.predict(X_train.astype(float)), color='lime', linestyle='dashed', label='Predictions on Training Data')\n",
    "plt.plot(X_test,  lr.predict(X_test.astype(float)), color='darkgreen', linestyle='dashed', label='Post Easter Predictions')\n",
    "\n",
    "plt.vlines(x=dt.date(2020, 4, 22), ymin=0, ymax=1400)\n",
    "\n",
    "plt.legend();"
   ]
  },
  {
   "cell_type": "code",
   "execution_count": 30,
   "metadata": {},
   "outputs": [
    {
     "data": {
      "text/html": [
       "<div>\n",
       "<style scoped>\n",
       "    .dataframe tbody tr th:only-of-type {\n",
       "        vertical-align: middle;\n",
       "    }\n",
       "\n",
       "    .dataframe tbody tr th {\n",
       "        vertical-align: top;\n",
       "    }\n",
       "\n",
       "    .dataframe thead th {\n",
       "        text-align: right;\n",
       "    }\n",
       "</style>\n",
       "<table border=\"1\" class=\"dataframe\">\n",
       "  <thead>\n",
       "    <tr style=\"text-align: right;\">\n",
       "      <th></th>\n",
       "      <th>actual</th>\n",
       "      <th>predicted</th>\n",
       "      <th>difference</th>\n",
       "    </tr>\n",
       "    <tr>\n",
       "      <th>date</th>\n",
       "      <th></th>\n",
       "      <th></th>\n",
       "      <th></th>\n",
       "    </tr>\n",
       "  </thead>\n",
       "  <tbody>\n",
       "    <tr>\n",
       "      <td>2020-04-13</td>\n",
       "      <td>371.0</td>\n",
       "      <td>452.663102</td>\n",
       "      <td>-81.663102</td>\n",
       "    </tr>\n",
       "    <tr>\n",
       "      <td>2020-04-14</td>\n",
       "      <td>305.0</td>\n",
       "      <td>467.435447</td>\n",
       "      <td>-162.435447</td>\n",
       "    </tr>\n",
       "    <tr>\n",
       "      <td>2020-04-15</td>\n",
       "      <td>511.0</td>\n",
       "      <td>482.207792</td>\n",
       "      <td>28.792208</td>\n",
       "    </tr>\n",
       "    <tr>\n",
       "      <td>2020-04-16</td>\n",
       "      <td>623.0</td>\n",
       "      <td>496.980138</td>\n",
       "      <td>126.019862</td>\n",
       "    </tr>\n",
       "    <tr>\n",
       "      <td>2020-04-17</td>\n",
       "      <td>693.0</td>\n",
       "      <td>511.752483</td>\n",
       "      <td>181.247517</td>\n",
       "    </tr>\n",
       "    <tr>\n",
       "      <td>2020-04-18</td>\n",
       "      <td>1115.0</td>\n",
       "      <td>526.524828</td>\n",
       "      <td>588.475172</td>\n",
       "    </tr>\n",
       "    <tr>\n",
       "      <td>2020-04-19</td>\n",
       "      <td>1380.0</td>\n",
       "      <td>541.297173</td>\n",
       "      <td>838.702827</td>\n",
       "    </tr>\n",
       "    <tr>\n",
       "      <td>2020-04-20</td>\n",
       "      <td>1317.0</td>\n",
       "      <td>556.069519</td>\n",
       "      <td>760.930481</td>\n",
       "    </tr>\n",
       "    <tr>\n",
       "      <td>2020-04-21</td>\n",
       "      <td>806.0</td>\n",
       "      <td>570.841864</td>\n",
       "      <td>235.158136</td>\n",
       "    </tr>\n",
       "    <tr>\n",
       "      <td>2020-04-22</td>\n",
       "      <td>392.0</td>\n",
       "      <td>585.614209</td>\n",
       "      <td>-193.614209</td>\n",
       "    </tr>\n",
       "    <tr>\n",
       "      <td>2020-04-23</td>\n",
       "      <td>577.0</td>\n",
       "      <td>600.386555</td>\n",
       "      <td>-23.386555</td>\n",
       "    </tr>\n",
       "    <tr>\n",
       "      <td>2020-04-24</td>\n",
       "      <td>475.0</td>\n",
       "      <td>615.158900</td>\n",
       "      <td>-140.158900</td>\n",
       "    </tr>\n",
       "  </tbody>\n",
       "</table>\n",
       "</div>"
      ],
      "text/plain": [
       "            actual   predicted  difference\n",
       "date                                      \n",
       "2020-04-13   371.0  452.663102  -81.663102\n",
       "2020-04-14   305.0  467.435447 -162.435447\n",
       "2020-04-15   511.0  482.207792   28.792208\n",
       "2020-04-16   623.0  496.980138  126.019862\n",
       "2020-04-17   693.0  511.752483  181.247517\n",
       "2020-04-18  1115.0  526.524828  588.475172\n",
       "2020-04-19  1380.0  541.297173  838.702827\n",
       "2020-04-20  1317.0  556.069519  760.930481\n",
       "2020-04-21   806.0  570.841864  235.158136\n",
       "2020-04-22   392.0  585.614209 -193.614209\n",
       "2020-04-23   577.0  600.386555  -23.386555\n",
       "2020-04-24   475.0  615.158900 -140.158900"
      ]
     },
     "execution_count": 30,
     "metadata": {},
     "output_type": "execute_result"
    }
   ],
   "source": [
    "# Let's make a DataFrame to compare \n",
    "predictions = pd.DataFrame(data=y_test)\n",
    "predictions.columns = ['actual']\n",
    "predictions['predicted'] = lr.predict(X_test.astype(float))\n",
    "predictions['difference'] = predictions.actual - predictions.predicted\n",
    "predictions"
   ]
  },
  {
   "cell_type": "code",
   "execution_count": 31,
   "metadata": {},
   "outputs": [
    {
     "data": {
      "text/plain": [
       "2759.3262032083585"
      ]
     },
     "execution_count": 31,
     "metadata": {},
     "output_type": "execute_result"
    }
   ],
   "source": [
    "# And let's see the total difference during the main spike\n",
    "predictions.difference[dt.date(2020, 4, 15):dt.date(2020, 4, 21)].sum()"
   ]
  },
  {
   "cell_type": "code",
   "execution_count": 32,
   "metadata": {},
   "outputs": [],
   "source": [
    "# And let's give this a name\n",
    "cases_caused = int(predictions.difference[dt.date(2020, 4, 15):dt.date(2020, 4, 21)].sum())"
   ]
  },
  {
   "cell_type": "code",
   "execution_count": 122,
   "metadata": {},
   "outputs": [],
   "source": [
    "# Let's set this value for the graph\n",
    "preds = pd.DataFrame(lr.predict(X_test.astype(float)))\n",
    "preds['date'] = pd.date_range(start=dt.date(2020, 4, 13), end=dt.date(2020, 4, 24))\n",
    "preds.set_index(preds['date'], inplace=True)\n",
    "preds.drop(columns='date', inplace=True)"
   ]
  },
  {
   "cell_type": "code",
   "execution_count": 123,
   "metadata": {},
   "outputs": [
    {
     "data": {
      "text/plain": [
       "date\n",
       "2020-04-13    452.663102\n",
       "2020-04-14    467.435447\n",
       "2020-04-15    482.207792\n",
       "2020-04-16    496.980138\n",
       "2020-04-17    511.752483\n",
       "2020-04-18    526.524828\n",
       "2020-04-19    541.297173\n",
       "2020-04-20    556.069519\n",
       "2020-04-21    570.841864\n",
       "2020-04-22    585.614209\n",
       "2020-04-23    600.386555\n",
       "2020-04-24    615.158900\n",
       "Name: 0, dtype: float64"
      ]
     },
     "execution_count": 123,
     "metadata": {},
     "output_type": "execute_result"
    }
   ],
   "source": [
    "preds[0]"
   ]
  },
  {
   "cell_type": "code",
   "execution_count": 124,
   "metadata": {},
   "outputs": [
    {
     "data": {
      "image/png": "[encoded data removed]",
      "text/plain": [
       "<Figure size 1152x576 with 1 Axes>"
      ]
     },
     "metadata": {
      "needs_background": "light"
     },
     "output_type": "display_data"
    }
   ],
   "source": [
    "# And let's graph it all out\n",
    "daily_change(ohio_data, \"The id March to Early April\", easter='On')\n",
    "plt.plot(X_train, lr.predict(X_train.astype(float)), color='lime', linestyle='dashed', label='Predictions on Training Data')\n",
    "plt.plot(X_test, lr.predict(X_test.astype(float)), color='darkgreen', linestyle='dashed', label='Post Easter Predictions')\n",
    "\n",
    "# This fills in the area of the 2,759 extra cases\n",
    "plt.fill_between(\n",
    "    x=np.arange(dt.date(2020, 4, 15), dt.date(2020, 4, 22)), \n",
    "    y1=y_test[dt.date(2020, 4, 15):dt.date(2020, 4, 21)], \n",
    "    y2=preds[0][dt.date(2020, 4, 15):dt.date(2020, 4, 21)]\n",
    ")\n",
    "\n",
    "# This adds the text indicating that ammount\n",
    "plt.text()\n",
    "\n",
    "plt.vlines(x=dt.date(2020, 4, 22), ymin=0, ymax=1400)\n",
    "\n",
    "plt.legend();"
   ]
  },
  {
   "cell_type": "code",
   "execution_count": null,
   "metadata": {},
   "outputs": [],
   "source": []
  },
  {
   "cell_type": "code",
   "execution_count": null,
   "metadata": {},
   "outputs": [],
   "source": []
  },
  {
   "cell_type": "code",
   "execution_count": null,
   "metadata": {},
   "outputs": [],
   "source": []
  },
  {
   "cell_type": "markdown",
   "metadata": {},
   "source": [
    "## Linear Regression of Recent Data"
   ]
  },
  {
   "cell_type": "code",
   "execution_count": 37,
   "metadata": {},
   "outputs": [],
   "source": [
    "# This will be about the same as above, but with a slight change to the training data\n",
    "# Since the large number of low increases in the first few weeks is leading the regressor to predict a constant upward \n",
    "# trend that isn't present so much of the month of April, we'll try removing those first few weeks from the training data"
   ]
  },
  {
   "cell_type": "code",
   "execution_count": 38,
   "metadata": {},
   "outputs": [],
   "source": [
    "# Let's create our x and y values, but only with data starting on April 1st\n",
    "X_recent = ohio_data.index[18:]\n",
    "y_recent = ohio_data.change_in_cases[18:]"
   ]
  },
  {
   "cell_type": "code",
   "execution_count": 39,
   "metadata": {},
   "outputs": [
    {
     "data": {
      "text/plain": [
       "date\n",
       "2020-03-27     277.0\n",
       "2020-03-28     262.0\n",
       "2020-03-29     259.0\n",
       "2020-03-30     268.0\n",
       "2020-03-31     266.0\n",
       "2020-04-01     348.0\n",
       "2020-04-02     355.0\n",
       "2020-04-03     410.0\n",
       "2020-04-04     427.0\n",
       "2020-04-05     304.0\n",
       "2020-04-06     407.0\n",
       "2020-04-07     332.0\n",
       "2020-04-08     366.0\n",
       "2020-04-09     364.0\n",
       "2020-04-10     366.0\n",
       "2020-04-11     372.0\n",
       "2020-04-12     354.0\n",
       "2020-04-13     371.0\n",
       "2020-04-14     305.0\n",
       "2020-04-15     511.0\n",
       "2020-04-16     623.0\n",
       "2020-04-17     693.0\n",
       "2020-04-18    1115.0\n",
       "2020-04-19    1380.0\n",
       "2020-04-20    1317.0\n",
       "2020-04-21     806.0\n",
       "2020-04-22     392.0\n",
       "2020-04-23     577.0\n",
       "2020-04-24     475.0\n",
       "Name: change_in_cases, dtype: float64"
      ]
     },
     "execution_count": 39,
     "metadata": {},
     "output_type": "execute_result"
    }
   ],
   "source": [
    "# Checking that I cut the data properly\n",
    "y_recent"
   ]
  },
  {
   "cell_type": "code",
   "execution_count": 40,
   "metadata": {},
   "outputs": [],
   "source": [
    "# Still don't fully understand how this helps, but it does\n",
    "X_recent = np.asanyarray(X_recent).reshape(-1, 1)"
   ]
  },
  {
   "cell_type": "code",
   "execution_count": 41,
   "metadata": {},
   "outputs": [],
   "source": [
    "# Let's give it train test splitting with the training data being data from the 1st to Easter Sunday\n",
    "X_train_recent, X_test_recent, y_train_recent, y_test_recent = train_test_split(X_recent, y_recent, test_size=0.4, random_state=42, shuffle=False)"
   ]
  },
  {
   "cell_type": "code",
   "execution_count": 42,
   "metadata": {},
   "outputs": [],
   "source": [
    "# Let's fit the regressor to the data\n",
    "lr_recent = LinearRegression().fit(X_train_recent, y_train_recent)"
   ]
  },
  {
   "cell_type": "code",
   "execution_count": 43,
   "metadata": {},
   "outputs": [
    {
     "data": {
      "text/plain": [
       "array([400.51470588, 407.51960784, 414.5245098 , 421.52941176,\n",
       "       428.53431373, 435.53921569, 442.54411765, 449.54901961,\n",
       "       456.55392157, 463.55882353, 470.56372549, 477.56862745])"
      ]
     },
     "execution_count": 43,
     "metadata": {},
     "output_type": "execute_result"
    }
   ],
   "source": [
    "lr_recent.predict(X_test_recent.astype(float))"
   ]
  },
  {
   "cell_type": "code",
   "execution_count": 44,
   "metadata": {},
   "outputs": [
    {
     "data": {
      "text/plain": [
       "[<matplotlib.lines.Line2D at 0x2cc030f50b8>]"
      ]
     },
     "execution_count": 44,
     "metadata": {},
     "output_type": "execute_result"
    },
    {
     "data": {
      "image/png": "[encoded data removed]",
      "text/plain": [
       "<Figure size 1152x576 with 1 Axes>"
      ]
     },
     "metadata": {
      "needs_background": "light"
     },
     "output_type": "display_data"
    }
   ],
   "source": [
    "daily_change(ohio_data, easter='On')\n",
    "plt.plot(X_train_recent, lr_recent.predict(X_train_recent.astype(float)), color='lime', linestyle='dashed', label='Predictions on Training Data')\n",
    "plt.plot(X_test_recent, lr_recent.predict(X_test_recent.astype(float)), color='darkgreen', linestyle='dashed', label='Post Easter Predictions')"
   ]
  },
  {
   "cell_type": "code",
   "execution_count": 45,
   "metadata": {},
   "outputs": [
    {
     "data": {
      "text/html": [
       "<div>\n",
       "<style scoped>\n",
       "    .dataframe tbody tr th:only-of-type {\n",
       "        vertical-align: middle;\n",
       "    }\n",
       "\n",
       "    .dataframe tbody tr th {\n",
       "        vertical-align: top;\n",
       "    }\n",
       "\n",
       "    .dataframe thead th {\n",
       "        text-align: right;\n",
       "    }\n",
       "</style>\n",
       "<table border=\"1\" class=\"dataframe\">\n",
       "  <thead>\n",
       "    <tr style=\"text-align: right;\">\n",
       "      <th></th>\n",
       "      <th>actual</th>\n",
       "      <th>predicted</th>\n",
       "      <th>difference</th>\n",
       "    </tr>\n",
       "    <tr>\n",
       "      <th>date</th>\n",
       "      <th></th>\n",
       "      <th></th>\n",
       "      <th></th>\n",
       "    </tr>\n",
       "  </thead>\n",
       "  <tbody>\n",
       "    <tr>\n",
       "      <td>2020-04-13</td>\n",
       "      <td>371.0</td>\n",
       "      <td>400.514706</td>\n",
       "      <td>-29.514706</td>\n",
       "    </tr>\n",
       "    <tr>\n",
       "      <td>2020-04-14</td>\n",
       "      <td>305.0</td>\n",
       "      <td>407.519608</td>\n",
       "      <td>-102.519608</td>\n",
       "    </tr>\n",
       "    <tr>\n",
       "      <td>2020-04-15</td>\n",
       "      <td>511.0</td>\n",
       "      <td>414.524510</td>\n",
       "      <td>96.475490</td>\n",
       "    </tr>\n",
       "    <tr>\n",
       "      <td>2020-04-16</td>\n",
       "      <td>623.0</td>\n",
       "      <td>421.529412</td>\n",
       "      <td>201.470588</td>\n",
       "    </tr>\n",
       "    <tr>\n",
       "      <td>2020-04-17</td>\n",
       "      <td>693.0</td>\n",
       "      <td>428.534314</td>\n",
       "      <td>264.465686</td>\n",
       "    </tr>\n",
       "    <tr>\n",
       "      <td>2020-04-18</td>\n",
       "      <td>1115.0</td>\n",
       "      <td>435.539216</td>\n",
       "      <td>679.460784</td>\n",
       "    </tr>\n",
       "    <tr>\n",
       "      <td>2020-04-19</td>\n",
       "      <td>1380.0</td>\n",
       "      <td>442.544118</td>\n",
       "      <td>937.455882</td>\n",
       "    </tr>\n",
       "    <tr>\n",
       "      <td>2020-04-20</td>\n",
       "      <td>1317.0</td>\n",
       "      <td>449.549020</td>\n",
       "      <td>867.450980</td>\n",
       "    </tr>\n",
       "    <tr>\n",
       "      <td>2020-04-21</td>\n",
       "      <td>806.0</td>\n",
       "      <td>456.553922</td>\n",
       "      <td>349.446078</td>\n",
       "    </tr>\n",
       "    <tr>\n",
       "      <td>2020-04-22</td>\n",
       "      <td>392.0</td>\n",
       "      <td>463.558824</td>\n",
       "      <td>-71.558824</td>\n",
       "    </tr>\n",
       "    <tr>\n",
       "      <td>2020-04-23</td>\n",
       "      <td>577.0</td>\n",
       "      <td>470.563725</td>\n",
       "      <td>106.436275</td>\n",
       "    </tr>\n",
       "    <tr>\n",
       "      <td>2020-04-24</td>\n",
       "      <td>475.0</td>\n",
       "      <td>477.568627</td>\n",
       "      <td>-2.568627</td>\n",
       "    </tr>\n",
       "  </tbody>\n",
       "</table>\n",
       "</div>"
      ],
      "text/plain": [
       "            actual   predicted  difference\n",
       "date                                      \n",
       "2020-04-13   371.0  400.514706  -29.514706\n",
       "2020-04-14   305.0  407.519608 -102.519608\n",
       "2020-04-15   511.0  414.524510   96.475490\n",
       "2020-04-16   623.0  421.529412  201.470588\n",
       "2020-04-17   693.0  428.534314  264.465686\n",
       "2020-04-18  1115.0  435.539216  679.460784\n",
       "2020-04-19  1380.0  442.544118  937.455882\n",
       "2020-04-20  1317.0  449.549020  867.450980\n",
       "2020-04-21   806.0  456.553922  349.446078\n",
       "2020-04-22   392.0  463.558824  -71.558824\n",
       "2020-04-23   577.0  470.563725  106.436275\n",
       "2020-04-24   475.0  477.568627   -2.568627"
      ]
     },
     "execution_count": 45,
     "metadata": {},
     "output_type": "execute_result"
    }
   ],
   "source": [
    "# Let's make a DataFrame to compare \n",
    "predictions_recent = pd.DataFrame(data=y_test)\n",
    "predictions_recent.columns = ['actual']\n",
    "predictions_recent['predicted'] = lr_recent.predict(X_test_recent.astype(float))\n",
    "predictions_recent['difference'] = predictions_recent.actual - predictions_recent.predicted\n",
    "predictions_recent"
   ]
  },
  {
   "cell_type": "code",
   "execution_count": 46,
   "metadata": {},
   "outputs": [
    {
     "data": {
      "text/plain": [
       "3396.2254901960405"
      ]
     },
     "execution_count": 46,
     "metadata": {},
     "output_type": "execute_result"
    }
   ],
   "source": [
    "# And let's see the total difference during the main spike\n",
    "predictions_recent.difference[dt.date(2020, 4, 15):dt.date(2020, 4, 21)].sum()"
   ]
  },
  {
   "cell_type": "code",
   "execution_count": 47,
   "metadata": {},
   "outputs": [],
   "source": [
    "# And let's name this\n",
    "cases_caused_recent = predictions_recent.difference[dt.date(2020, 4, 15):dt.date(2020, 4, 21)].sum()"
   ]
  },
  {
   "cell_type": "code",
   "execution_count": null,
   "metadata": {},
   "outputs": [],
   "source": []
  },
  {
   "cell_type": "code",
   "execution_count": null,
   "metadata": {},
   "outputs": [],
   "source": []
  },
  {
   "cell_type": "markdown",
   "metadata": {},
   "source": [
    "## Calculating the Percent of the Total"
   ]
  },
  {
   "cell_type": "code",
   "execution_count": null,
   "metadata": {},
   "outputs": [],
   "source": [
    "total_cases_april_24 = ohio_data.cases[-1]\n",
    "total_cases_april_24"
   ]
  },
  {
   "cell_type": "code",
   "execution_count": null,
   "metadata": {},
   "outputs": [],
   "source": [
    "ohio_data.tail()"
   ]
  },
  {
   "cell_type": "code",
   "execution_count": null,
   "metadata": {},
   "outputs": [],
   "source": []
  },
  {
   "cell_type": "code",
   "execution_count": null,
   "metadata": {},
   "outputs": [],
   "source": []
  },
  {
   "cell_type": "code",
   "execution_count": null,
   "metadata": {},
   "outputs": [],
   "source": []
  },
  {
   "cell_type": "code",
   "execution_count": null,
   "metadata": {},
   "outputs": [],
   "source": []
  },
  {
   "cell_type": "markdown",
   "metadata": {},
   "source": [
    "## Let's Look at the Counties"
   ]
  },
  {
   "cell_type": "code",
   "execution_count": null,
   "metadata": {},
   "outputs": [],
   "source": [
    "# First we'll read in the county data\n",
    "county_data = pd.read_csv('NYT-US-Data/us-counties-2020-04-25.csv')"
   ]
  },
  {
   "cell_type": "code",
   "execution_count": null,
   "metadata": {},
   "outputs": [],
   "source": [
    "# Then we narrow it down to Ohio counties\n",
    "ohio_counties = county_data[county_data.state == 'Ohio']"
   ]
  },
  {
   "cell_type": "code",
   "execution_count": null,
   "metadata": {},
   "outputs": [],
   "source": [
    "# Ohio's got a lot of counties\n",
    "len(ohio_counties.county.unique())"
   ]
  },
  {
   "cell_type": "code",
   "execution_count": null,
   "metadata": {},
   "outputs": [],
   "source": [
    "ohio_counties.groupby(by='county').max().sort_index(by='cases')"
   ]
  },
  {
   "cell_type": "code",
   "execution_count": null,
   "metadata": {},
   "outputs": [],
   "source": []
  }
 ],
 "metadata": {
  "kernelspec": {
   "display_name": "Python 3",
   "language": "python",
   "name": "python3"
  },
  "language_info": {
   "codemirror_mode": {
    "name": "ipython",
    "version": 3
   },
   "file_extension": ".py",
   "mimetype": "text/x-python",
   "name": "python",
   "nbconvert_exporter": "python",
   "pygments_lexer": "ipython3",
   "version": "3.7.3"
  }
 },
 "nbformat": 4,
 "nbformat_minor": 2
}
